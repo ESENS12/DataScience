{
 "cells": [
  {
   "cell_type": "code",
   "execution_count": 1,
   "metadata": {},
   "outputs": [],
   "source": [
    "import pandas as pd\n",
    "import numpy as np"
   ]
  },
  {
   "cell_type": "code",
   "execution_count": 2,
   "metadata": {},
   "outputs": [
    {
     "data": {
      "text/plain": [
       "0      1\n",
       "1      3\n",
       "2      5\n",
       "3    NaN\n",
       "4      6\n",
       "5      8\n",
       "6      a\n",
       "dtype: object"
      ]
     },
     "execution_count": 2,
     "metadata": {},
     "output_type": "execute_result"
    }
   ],
   "source": [
    "s = pd.Series([1,3,5,np.nan,6,8,\"a\"])\n",
    "s\n",
    "#Series는 python의 기초 데이터 유형임.내부 타입은 가변적, 복합적으로 넣었을 경우 object 타입 리턴"
   ]
  },
  {
   "cell_type": "code",
   "execution_count": 3,
   "metadata": {},
   "outputs": [
    {
     "data": {
      "text/plain": [
       "DatetimeIndex(['2013-01-01', '2013-01-02', '2013-01-03', '2013-01-04',\n",
       "               '2013-01-05', '2013-01-06'],\n",
       "              dtype='datetime64[ns]', freq='D')"
      ]
     },
     "execution_count": 3,
     "metadata": {},
     "output_type": "execute_result"
    }
   ],
   "source": [
    "dates = pd.date_range('20130101', periods=6)\n",
    "dates\n",
    "#기본형 date 타입"
   ]
  },
  {
   "cell_type": "code",
   "execution_count": 4,
   "metadata": {},
   "outputs": [
    {
     "data": {
      "text/html": [
       "<div>\n",
       "<style scoped>\n",
       "    .dataframe tbody tr th:only-of-type {\n",
       "        vertical-align: middle;\n",
       "    }\n",
       "\n",
       "    .dataframe tbody tr th {\n",
       "        vertical-align: top;\n",
       "    }\n",
       "\n",
       "    .dataframe thead th {\n",
       "        text-align: right;\n",
       "    }\n",
       "</style>\n",
       "<table border=\"1\" class=\"dataframe\">\n",
       "  <thead>\n",
       "    <tr style=\"text-align: right;\">\n",
       "      <th></th>\n",
       "      <th>A</th>\n",
       "      <th>B</th>\n",
       "      <th>C</th>\n",
       "      <th>D</th>\n",
       "    </tr>\n",
       "  </thead>\n",
       "  <tbody>\n",
       "    <tr>\n",
       "      <th>2013-01-01</th>\n",
       "      <td>0.421711</td>\n",
       "      <td>-0.637384</td>\n",
       "      <td>1.299916</td>\n",
       "      <td>0.085104</td>\n",
       "    </tr>\n",
       "    <tr>\n",
       "      <th>2013-01-02</th>\n",
       "      <td>2.272626</td>\n",
       "      <td>0.029670</td>\n",
       "      <td>-2.455052</td>\n",
       "      <td>0.145952</td>\n",
       "    </tr>\n",
       "    <tr>\n",
       "      <th>2013-01-03</th>\n",
       "      <td>-0.996163</td>\n",
       "      <td>-0.513563</td>\n",
       "      <td>-0.714785</td>\n",
       "      <td>0.813898</td>\n",
       "    </tr>\n",
       "    <tr>\n",
       "      <th>2013-01-04</th>\n",
       "      <td>-0.395034</td>\n",
       "      <td>-1.672342</td>\n",
       "      <td>1.648827</td>\n",
       "      <td>-0.223355</td>\n",
       "    </tr>\n",
       "    <tr>\n",
       "      <th>2013-01-05</th>\n",
       "      <td>-1.189048</td>\n",
       "      <td>1.112350</td>\n",
       "      <td>-0.501982</td>\n",
       "      <td>0.731633</td>\n",
       "    </tr>\n",
       "    <tr>\n",
       "      <th>2013-01-06</th>\n",
       "      <td>0.243477</td>\n",
       "      <td>-0.121769</td>\n",
       "      <td>1.812386</td>\n",
       "      <td>0.221748</td>\n",
       "    </tr>\n",
       "  </tbody>\n",
       "</table>\n",
       "</div>"
      ],
      "text/plain": [
       "                   A         B         C         D\n",
       "2013-01-01  0.421711 -0.637384  1.299916  0.085104\n",
       "2013-01-02  2.272626  0.029670 -2.455052  0.145952\n",
       "2013-01-03 -0.996163 -0.513563 -0.714785  0.813898\n",
       "2013-01-04 -0.395034 -1.672342  1.648827 -0.223355\n",
       "2013-01-05 -1.189048  1.112350 -0.501982  0.731633\n",
       "2013-01-06  0.243477 -0.121769  1.812386  0.221748"
      ]
     },
     "execution_count": 4,
     "metadata": {},
     "output_type": "execute_result"
    }
   ],
   "source": [
    "df = pd.DataFrame(np.random.randn(6,4), index=dates, columns=['A','B','C','D'])\n",
    "df\n",
    "#6행 4열의 랜덤 변수를 프레임에 넣는데 인덱스는 dates고 컬럼은 abcd로..\n",
    "#선언한 데이터프레임과 다를 경우 Shape of passed values is (5, 6), indices imply (4, 6) 에러가 발생\n"
   ]
  },
  {
   "cell_type": "code",
   "execution_count": 5,
   "metadata": {},
   "outputs": [
    {
     "data": {
      "text/plain": [
       "DatetimeIndex(['2013-01-01', '2013-01-02', '2013-01-03', '2013-01-04',\n",
       "               '2013-01-05', '2013-01-06'],\n",
       "              dtype='datetime64[ns]', freq='D')"
      ]
     },
     "execution_count": 5,
     "metadata": {},
     "output_type": "execute_result"
    }
   ],
   "source": [
    "#df.index\n",
    "new_dates = df.index\n",
    "new_dates\n",
    "#dates 타입으로 리턴이 됨 "
   ]
  },
  {
   "cell_type": "code",
   "execution_count": 6,
   "metadata": {},
   "outputs": [
    {
     "name": "stdout",
     "output_type": "stream",
     "text": [
      "A\n",
      "<class 'pandas.core.indexes.base.Index'>\n"
     ]
    }
   ],
   "source": [
    "df.columns\n",
    "#columns는 index가 리턴됨\n",
    "a = df.columns\n",
    "print(a[0])\n",
    "print(type(a))"
   ]
  },
  {
   "cell_type": "code",
   "execution_count": 7,
   "metadata": {},
   "outputs": [
    {
     "name": "stdout",
     "output_type": "stream",
     "text": [
      "<class 'pandas.core.frame.DataFrame'>\n",
      "DatetimeIndex: 6 entries, 2013-01-01 to 2013-01-06\n",
      "Freq: D\n",
      "Data columns (total 4 columns):\n",
      "A    6 non-null float64\n",
      "B    6 non-null float64\n",
      "C    6 non-null float64\n",
      "D    6 non-null float64\n",
      "dtypes: float64(4)\n",
      "memory usage: 240.0 bytes\n"
     ]
    },
    {
     "data": {
      "text/html": [
       "<div>\n",
       "<style scoped>\n",
       "    .dataframe tbody tr th:only-of-type {\n",
       "        vertical-align: middle;\n",
       "    }\n",
       "\n",
       "    .dataframe tbody tr th {\n",
       "        vertical-align: top;\n",
       "    }\n",
       "\n",
       "    .dataframe thead th {\n",
       "        text-align: right;\n",
       "    }\n",
       "</style>\n",
       "<table border=\"1\" class=\"dataframe\">\n",
       "  <thead>\n",
       "    <tr style=\"text-align: right;\">\n",
       "      <th></th>\n",
       "      <th>A</th>\n",
       "      <th>B</th>\n",
       "      <th>C</th>\n",
       "      <th>D</th>\n",
       "    </tr>\n",
       "  </thead>\n",
       "  <tbody>\n",
       "    <tr>\n",
       "      <th>2013-01-01</th>\n",
       "      <td>0.421711</td>\n",
       "      <td>-0.637384</td>\n",
       "      <td>1.299916</td>\n",
       "      <td>0.085104</td>\n",
       "    </tr>\n",
       "    <tr>\n",
       "      <th>2013-01-02</th>\n",
       "      <td>2.272626</td>\n",
       "      <td>0.029670</td>\n",
       "      <td>-2.455052</td>\n",
       "      <td>0.145952</td>\n",
       "    </tr>\n",
       "  </tbody>\n",
       "</table>\n",
       "</div>"
      ],
      "text/plain": [
       "                   A         B         C         D\n",
       "2013-01-01  0.421711 -0.637384  1.299916  0.085104\n",
       "2013-01-02  2.272626  0.029670 -2.455052  0.145952"
      ]
     },
     "execution_count": 7,
     "metadata": {},
     "output_type": "execute_result"
    }
   ],
   "source": [
    "df.info() #정보를 출력함\n",
    "\n",
    "df['20130102':'20130104']\n",
    "df[dates[0]:dates[1]]\n",
    "#오로지 date 타입만 가능함"
   ]
  },
  {
   "cell_type": "code",
   "execution_count": 8,
   "metadata": {},
   "outputs": [
    {
     "name": "stdout",
     "output_type": "stream",
     "text": [
      "A    0.421711\n",
      "B   -0.637384\n",
      "C    1.299916\n",
      "D    0.085104\n",
      "Name: 2013-01-01 00:00:00, dtype: float64\n",
      "                   A         B\n",
      "2013-01-01  0.421711 -0.637384\n",
      "2013-01-02  2.272626  0.029670\n",
      "2013-01-03 -0.996163 -0.513563\n",
      "2013-01-04 -0.395034 -1.672342\n",
      "2013-01-05 -1.189048  1.112350\n",
      "2013-01-06  0.243477 -0.121769\n",
      "                   A         B\n",
      "2013-01-01  0.421711 -0.637384\n",
      "2013-01-02  2.272626  0.029670\n"
     ]
    }
   ],
   "source": [
    "print(df.loc[dates[0]])\n",
    "#인덱스인 날짜를 기준으로 슬라이싱\n",
    "\n",
    "print(df.loc[:,['A','B']])\n",
    "#모든날짜의 특정 칼럼만 슬라이싱\n",
    "\n",
    "print(df.loc[dates[0]:dates[1],[\"A\",\"B\"]])\n",
    "#특정 날짜의 특정 칼럼만 슬라이싱"
   ]
  },
  {
   "cell_type": "code",
   "execution_count": 9,
   "metadata": {},
   "outputs": [
    {
     "data": {
      "text/plain": [
       "A   -0.395034\n",
       "B   -1.672342\n",
       "C    1.648827\n",
       "D   -0.223355\n",
       "Name: 2013-01-04 00:00:00, dtype: float64"
      ]
     },
     "execution_count": 9,
     "metadata": {},
     "output_type": "execute_result"
    }
   ],
   "source": [
    "df.iloc[3]\n",
    "#loc에서 특정 날짜를 직접 입력하지 않고 index로 슬라이싱"
   ]
  },
  {
   "cell_type": "code",
   "execution_count": 10,
   "metadata": {},
   "outputs": [
    {
     "name": "stdout",
     "output_type": "stream",
     "text": [
      "                   A         B\n",
      "2013-01-04 -0.395034 -1.672342\n",
      "2013-01-05 -1.189048  1.112350\n",
      "                   A         C\n",
      "2013-01-02  2.272626 -2.455052\n",
      "2013-01-03 -0.996163 -0.714785\n",
      "2013-01-05 -1.189048 -0.501982\n"
     ]
    }
   ],
   "source": [
    "print(df.iloc[3:5,0:2]) # 범위로 슬라이싱\n",
    "print(df.iloc[[1,2,4],[0,2]]) # 특정 데이터만 슬라이싱(콤마)\n"
   ]
  },
  {
   "cell_type": "code",
   "execution_count": 11,
   "metadata": {},
   "outputs": [
    {
     "data": {
      "text/html": [
       "<div>\n",
       "<style scoped>\n",
       "    .dataframe tbody tr th:only-of-type {\n",
       "        vertical-align: middle;\n",
       "    }\n",
       "\n",
       "    .dataframe tbody tr th {\n",
       "        vertical-align: top;\n",
       "    }\n",
       "\n",
       "    .dataframe thead th {\n",
       "        text-align: right;\n",
       "    }\n",
       "</style>\n",
       "<table border=\"1\" class=\"dataframe\">\n",
       "  <thead>\n",
       "    <tr style=\"text-align: right;\">\n",
       "      <th></th>\n",
       "      <th>A</th>\n",
       "      <th>B</th>\n",
       "      <th>C</th>\n",
       "      <th>D</th>\n",
       "    </tr>\n",
       "  </thead>\n",
       "  <tbody>\n",
       "    <tr>\n",
       "      <th>2013-01-01</th>\n",
       "      <td>0.421711</td>\n",
       "      <td>NaN</td>\n",
       "      <td>1.299916</td>\n",
       "      <td>0.085104</td>\n",
       "    </tr>\n",
       "    <tr>\n",
       "      <th>2013-01-02</th>\n",
       "      <td>2.272626</td>\n",
       "      <td>0.02967</td>\n",
       "      <td>NaN</td>\n",
       "      <td>0.145952</td>\n",
       "    </tr>\n",
       "    <tr>\n",
       "      <th>2013-01-03</th>\n",
       "      <td>NaN</td>\n",
       "      <td>NaN</td>\n",
       "      <td>NaN</td>\n",
       "      <td>0.813898</td>\n",
       "    </tr>\n",
       "    <tr>\n",
       "      <th>2013-01-04</th>\n",
       "      <td>NaN</td>\n",
       "      <td>NaN</td>\n",
       "      <td>1.648827</td>\n",
       "      <td>NaN</td>\n",
       "    </tr>\n",
       "    <tr>\n",
       "      <th>2013-01-05</th>\n",
       "      <td>NaN</td>\n",
       "      <td>1.11235</td>\n",
       "      <td>NaN</td>\n",
       "      <td>0.731633</td>\n",
       "    </tr>\n",
       "    <tr>\n",
       "      <th>2013-01-06</th>\n",
       "      <td>0.243477</td>\n",
       "      <td>NaN</td>\n",
       "      <td>1.812386</td>\n",
       "      <td>0.221748</td>\n",
       "    </tr>\n",
       "  </tbody>\n",
       "</table>\n",
       "</div>"
      ],
      "text/plain": [
       "                   A        B         C         D\n",
       "2013-01-01  0.421711      NaN  1.299916  0.085104\n",
       "2013-01-02  2.272626  0.02967       NaN  0.145952\n",
       "2013-01-03       NaN      NaN       NaN  0.813898\n",
       "2013-01-04       NaN      NaN  1.648827       NaN\n",
       "2013-01-05       NaN  1.11235       NaN  0.731633\n",
       "2013-01-06  0.243477      NaN  1.812386  0.221748"
      ]
     },
     "execution_count": 11,
     "metadata": {},
     "output_type": "execute_result"
    }
   ],
   "source": [
    "df[df.A > 0]\n",
    "df[df>0] #만족하지 않는 컬럼은 NaN"
   ]
  },
  {
   "cell_type": "code",
   "execution_count": 13,
   "metadata": {},
   "outputs": [
    {
     "data": {
      "text/html": [
       "<div>\n",
       "<style scoped>\n",
       "    .dataframe tbody tr th:only-of-type {\n",
       "        vertical-align: middle;\n",
       "    }\n",
       "\n",
       "    .dataframe tbody tr th {\n",
       "        vertical-align: top;\n",
       "    }\n",
       "\n",
       "    .dataframe thead th {\n",
       "        text-align: right;\n",
       "    }\n",
       "</style>\n",
       "<table border=\"1\" class=\"dataframe\">\n",
       "  <thead>\n",
       "    <tr style=\"text-align: right;\">\n",
       "      <th></th>\n",
       "      <th>A</th>\n",
       "      <th>B</th>\n",
       "      <th>C</th>\n",
       "      <th>D</th>\n",
       "      <th>E</th>\n",
       "    </tr>\n",
       "  </thead>\n",
       "  <tbody>\n",
       "    <tr>\n",
       "      <th>2013-01-01</th>\n",
       "      <td>0.421711</td>\n",
       "      <td>-0.637384</td>\n",
       "      <td>1.299916</td>\n",
       "      <td>0.085104</td>\n",
       "      <td>one</td>\n",
       "    </tr>\n",
       "    <tr>\n",
       "      <th>2013-01-02</th>\n",
       "      <td>2.272626</td>\n",
       "      <td>0.029670</td>\n",
       "      <td>-2.455052</td>\n",
       "      <td>0.145952</td>\n",
       "      <td>one</td>\n",
       "    </tr>\n",
       "    <tr>\n",
       "      <th>2013-01-03</th>\n",
       "      <td>-0.996163</td>\n",
       "      <td>-0.513563</td>\n",
       "      <td>-0.714785</td>\n",
       "      <td>0.813898</td>\n",
       "      <td>two</td>\n",
       "    </tr>\n",
       "    <tr>\n",
       "      <th>2013-01-04</th>\n",
       "      <td>-0.395034</td>\n",
       "      <td>-1.672342</td>\n",
       "      <td>1.648827</td>\n",
       "      <td>-0.223355</td>\n",
       "      <td>three</td>\n",
       "    </tr>\n",
       "    <tr>\n",
       "      <th>2013-01-05</th>\n",
       "      <td>-1.189048</td>\n",
       "      <td>1.112350</td>\n",
       "      <td>-0.501982</td>\n",
       "      <td>0.731633</td>\n",
       "      <td>four</td>\n",
       "    </tr>\n",
       "    <tr>\n",
       "      <th>2013-01-06</th>\n",
       "      <td>0.243477</td>\n",
       "      <td>-0.121769</td>\n",
       "      <td>1.812386</td>\n",
       "      <td>0.221748</td>\n",
       "      <td>three</td>\n",
       "    </tr>\n",
       "  </tbody>\n",
       "</table>\n",
       "</div>"
      ],
      "text/plain": [
       "                   A         B         C         D      E\n",
       "2013-01-01  0.421711 -0.637384  1.299916  0.085104    one\n",
       "2013-01-02  2.272626  0.029670 -2.455052  0.145952    one\n",
       "2013-01-03 -0.996163 -0.513563 -0.714785  0.813898    two\n",
       "2013-01-04 -0.395034 -1.672342  1.648827 -0.223355  three\n",
       "2013-01-05 -1.189048  1.112350 -0.501982  0.731633   four\n",
       "2013-01-06  0.243477 -0.121769  1.812386  0.221748  three"
      ]
     },
     "execution_count": 13,
     "metadata": {},
     "output_type": "execute_result"
    }
   ],
   "source": [
    "#그냥 =  를 활용해서 복사하면 데이터 위치만 (주소만 참조) 복사가 되므로 실제 데이터를 변경하려면 copy를 사용하면 된다.\n",
    "df2 = df.copy()\n",
    "df2['E'] = ['one', 'one','two','three','four','three'] #행 추가\n",
    "df2"
   ]
  },
  {
   "cell_type": "code",
   "execution_count": 22,
   "metadata": {},
   "outputs": [
    {
     "data": {
      "text/html": [
       "<div>\n",
       "<style scoped>\n",
       "    .dataframe tbody tr th:only-of-type {\n",
       "        vertical-align: middle;\n",
       "    }\n",
       "\n",
       "    .dataframe tbody tr th {\n",
       "        vertical-align: top;\n",
       "    }\n",
       "\n",
       "    .dataframe thead th {\n",
       "        text-align: right;\n",
       "    }\n",
       "</style>\n",
       "<table border=\"1\" class=\"dataframe\">\n",
       "  <thead>\n",
       "    <tr style=\"text-align: right;\">\n",
       "      <th></th>\n",
       "      <th>A</th>\n",
       "      <th>B</th>\n",
       "      <th>C</th>\n",
       "      <th>D</th>\n",
       "      <th>E</th>\n",
       "    </tr>\n",
       "  </thead>\n",
       "  <tbody>\n",
       "    <tr>\n",
       "      <th>2013-01-01</th>\n",
       "      <td>0.421711</td>\n",
       "      <td>-0.637384</td>\n",
       "      <td>1.299916</td>\n",
       "      <td>0.085104</td>\n",
       "      <td>one</td>\n",
       "    </tr>\n",
       "    <tr>\n",
       "      <th>2013-01-02</th>\n",
       "      <td>2.272626</td>\n",
       "      <td>0.029670</td>\n",
       "      <td>-2.455052</td>\n",
       "      <td>0.145952</td>\n",
       "      <td>one</td>\n",
       "    </tr>\n",
       "    <tr>\n",
       "      <th>2013-01-03</th>\n",
       "      <td>-0.996163</td>\n",
       "      <td>-0.513563</td>\n",
       "      <td>-0.714785</td>\n",
       "      <td>0.813898</td>\n",
       "      <td>two</td>\n",
       "    </tr>\n",
       "    <tr>\n",
       "      <th>2013-01-04</th>\n",
       "      <td>-0.395034</td>\n",
       "      <td>-1.672342</td>\n",
       "      <td>1.648827</td>\n",
       "      <td>-0.223355</td>\n",
       "      <td>three</td>\n",
       "    </tr>\n",
       "    <tr>\n",
       "      <th>2013-01-05</th>\n",
       "      <td>-1.189048</td>\n",
       "      <td>1.112350</td>\n",
       "      <td>-0.501982</td>\n",
       "      <td>0.731633</td>\n",
       "      <td>four</td>\n",
       "    </tr>\n",
       "    <tr>\n",
       "      <th>2013-01-06</th>\n",
       "      <td>0.243477</td>\n",
       "      <td>-0.121769</td>\n",
       "      <td>1.812386</td>\n",
       "      <td>0.221748</td>\n",
       "      <td>three</td>\n",
       "    </tr>\n",
       "  </tbody>\n",
       "</table>\n",
       "</div>"
      ],
      "text/plain": [
       "                   A         B         C         D      E\n",
       "2013-01-01  0.421711 -0.637384  1.299916  0.085104    one\n",
       "2013-01-02  2.272626  0.029670 -2.455052  0.145952    one\n",
       "2013-01-03 -0.996163 -0.513563 -0.714785  0.813898    two\n",
       "2013-01-04 -0.395034 -1.672342  1.648827 -0.223355  three\n",
       "2013-01-05 -1.189048  1.112350 -0.501982  0.731633   four\n",
       "2013-01-06  0.243477 -0.121769  1.812386  0.221748  three"
      ]
     },
     "execution_count": 22,
     "metadata": {},
     "output_type": "execute_result"
    }
   ],
   "source": [
    "df2['E'].isin(['two','four'])\n",
    "#특정 데이터의 포함조건은 isin 명령 활용 yes or no 로 표시가 됨\n",
    "df2[df2['E'].isin(['two','four'])]\n",
    "#포함조건이 true인 데이터만 출력 하고 싶을 때\n",
    "df2"
   ]
  },
  {
   "cell_type": "code",
   "execution_count": 27,
   "metadata": {},
   "outputs": [
    {
     "data": {
      "text/plain": [
       "A    3.461673\n",
       "B    2.784691\n",
       "C    4.267437\n",
       "D    1.037253\n",
       "dtype: float64"
      ]
     },
     "execution_count": 27,
     "metadata": {},
     "output_type": "execute_result"
    }
   ],
   "source": [
    "df.apply(np.cumsum)\n",
    "#np.cumsum은 내려가면서 각 데이터들을 순차적으로 합산해서 표시함. \n",
    "df.apply(lambda x: x.max() - x.min()) #람다 사용 가능"
   ]
  },
  {
   "cell_type": "code",
   "execution_count": null,
   "metadata": {},
   "outputs": [],
   "source": []
  }
 ],
 "metadata": {
  "kernelspec": {
   "display_name": "Python 3",
   "language": "python",
   "name": "python3"
  },
  "language_info": {
   "codemirror_mode": {
    "name": "ipython",
    "version": 3
   },
   "file_extension": ".py",
   "mimetype": "text/x-python",
   "name": "python",
   "nbconvert_exporter": "python",
   "pygments_lexer": "ipython3",
   "version": "3.6.7"
  }
 },
 "nbformat": 4,
 "nbformat_minor": 2
}
